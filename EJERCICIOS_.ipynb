{
  "nbformat": 4,
  "nbformat_minor": 0,
  "metadata": {
    "colab": {
      "provenance": [],
      "authorship_tag": "ABX9TyOSXhtJ6FUZ4XmXNSgKs7il",
      "include_colab_link": true
    },
    "kernelspec": {
      "name": "python3",
      "display_name": "Python 3"
    },
    "language_info": {
      "name": "python"
    }
  },
  "cells": [
    {
      "cell_type": "markdown",
      "metadata": {
        "id": "view-in-github",
        "colab_type": "text"
      },
      "source": [
        "<a href=\"https://colab.research.google.com/github/renyelis/ejercicios_for/blob/main/EJERCICIOS_.ipynb\" target=\"_parent\"><img src=\"https://colab.research.google.com/assets/colab-badge.svg\" alt=\"Open In Colab\"/></a>"
      ]
    },
    {
      "cell_type": "markdown",
      "source": [
        "# INSTRUCCION REPETITIVA FOR\n"
      ],
      "metadata": {
        "id": "bbcTtsunrDdI"
      }
    },
    {
      "cell_type": "code",
      "source": [
        "# ejercicio 1: mostrar los numeros del 1 al 10 sin usar instrucciones repetitivas\n",
        "\n",
        "print(1)\n",
        "print(2)\n",
        "print(3)\n",
        "print(4)\n",
        "print(5)\n",
        "print(6)\n",
        "print(7)\n",
        "print(8)\n",
        "print(9)\n",
        "print(10)"
      ],
      "metadata": {
        "id": "oc2JPvRStgob"
      },
      "execution_count": null,
      "outputs": []
    },
    {
      "cell_type": "code",
      "source": [
        "# ejercicio 2:mostrar los numeros del 1 al 10,usando la instruccion while\n",
        "\n",
        "contador = 1\n",
        "print(contador)\n",
        "while contador <10:\n",
        "  #contador = contador + 1\n",
        "  contador +=1\n",
        "  print(contador) "
      ],
      "metadata": {
        "id": "mfrNpxk4uHqL"
      },
      "execution_count": null,
      "outputs": []
    },
    {
      "cell_type": "code",
      "source": [
        "# ejercicio 3:mostrar los numeros del 1 al 10,usando la instruccion for y una lista como interable\n",
        "\n",
        "for i in [1,2,3,4,5,6,7,8,9,10]:\n",
        "  print(i)"
      ],
      "metadata": {
        "id": "pvizQvuSvQNd"
      },
      "execution_count": null,
      "outputs": []
    },
    {
      "cell_type": "code",
      "source": [
        "# ejercico 4:mostrar los numeros del 1 al 10,usando la instruccion for y la funcion range\n",
        "\n",
        "for i in range(1,11):\n",
        "  print(i)"
      ],
      "metadata": {
        "id": "qvE9VWQAwyS7"
      },
      "execution_count": null,
      "outputs": []
    },
    {
      "cell_type": "code",
      "source": [
        "# ejercicio 5:mostrar una frase 10 veces usando la instruccion for y una lista\n",
        "\n",
        "lista = [1,2,3,4,5,6,7,8,9,10]\n",
        "for i in lista:\n",
        "  print(f\"{i}sistema el mejor!!!\")"
      ],
      "metadata": {
        "id": "eBwiR5AixqUK"
      },
      "execution_count": null,
      "outputs": []
    },
    {
      "cell_type": "code",
      "source": [
        "# ejercicio 6:mostrar la silaba inicial de los dias de la semana,usando for y una lista con la inicial de los dias de la semana\n",
        "\n",
        "dias_semana = [\"lu\",\"ma\",\"mi\",\"ju\",\"vi\",\"sa\",\"do\"]\n",
        "for i in dias_semana:\n",
        "  print(i)"
      ],
      "metadata": {
        "id": "ljUURN6pykf1"
      },
      "execution_count": null,
      "outputs": []
    },
    {
      "cell_type": "code",
      "source": [
        "# ejercicio 7:mostrar una lista de distintos tipos de datos,usando for\n",
        "lista = [1,2,3,guanenta,true,8] \n",
        "for i in lista:\n",
        "  print(i)\n",
        "  "
      ],
      "metadata": {
        "id": "KjXTVF4wzevQ"
      },
      "execution_count": null,
      "outputs": []
    },
    {
      "cell_type": "code",
      "source": [
        "# ejercicio 8:ingresar su nombre y mostrarlo letra a letra usando for\n",
        "\n",
        "nombre = input(\"digite su nombre: \")\n",
        "for letra in nombre:\n",
        "  print(letra)"
      ],
      "metadata": {
        "id": "ZrTv56dW0DMT"
      },
      "execution_count": null,
      "outputs": []
    },
    {
      "cell_type": "code",
      "source": [
        "# ejercicio 9:ingresar nombre y mostrarlo letra a letra usando for cambiando por asterico * a la vocal e\n",
        "\n",
        "nombre =input(\"digite su nombre: \")\n",
        "for letra in nombre:\n",
        "  if letra == 'e': \n",
        "    print(\"*\")\n",
        "  else:\n",
        "      print(letra)"
      ],
      "metadata": {
        "id": "krQL7n1O0-4D"
      },
      "execution_count": null,
      "outputs": []
    },
    {
      "cell_type": "code",
      "source": [
        "# ejercicio 10:ingresar su nombre y mostrarlo letra a letra en mayuscula usando for\n",
        "\n",
        "nombre = input(\"digite su nombre: \")\n",
        "for letra in nombre:\n",
        "  print(letra.upper())\n"
      ],
      "metadata": {
        "id": "EwLofcnOABFm"
      },
      "execution_count": null,
      "outputs": []
    },
    {
      "cell_type": "code",
      "source": [
        "# ejercicio 11:imprimir lista de numerosfor y range\n",
        "\n",
        "print(\"numeros del 0 al 9\")\n",
        "for i in range(10):\n",
        "  print(i)\n",
        "\n",
        "print(\"numeros del 1 al 10\")\n",
        "for i in range(1,11):\n",
        "  print(\"sistemas el mejor\")\n",
        "\n",
        "print(\"10 veces la frase\")\n",
        "for i in range(10):\n",
        "  print(\"sistemas el mejor\")\n",
        "\n",
        "print(\"10 veces la frase i = \")\n",
        "for i in range(10):\n",
        "  print(\"i = \" + str(i)) \n",
        "\n",
        "print(\"10veces la frase i = \")\n",
        "for i in range(10):\n",
        "  print(f\"i = {i}\")\n",
        "\n",
        "print(\"rango del 7 al 18,incrementado de 4 en 4\")\n",
        "for i in range(7,19,4):\n",
        "  print(i)\n",
        "\n",
        "print(\"convierte rango en lista a,y la muestra\")\n",
        "a = list(range(1000))\n",
        "print(a)\n",
        "\n"
      ],
      "metadata": {
        "id": "1CHdTBXGBHoD"
      },
      "execution_count": null,
      "outputs": []
    }
  ]
}